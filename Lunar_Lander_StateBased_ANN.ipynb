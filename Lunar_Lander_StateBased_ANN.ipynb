{
 "cells": [
  {
   "cell_type": "markdown",
   "metadata": {},
   "source": [
    "## Lunar Lander - State"
   ]
  },
  {
   "cell_type": "markdown",
   "metadata": {},
   "source": [
    "### Imports "
   ]
  },
  {
   "cell_type": "code",
   "execution_count": 118,
   "metadata": {
    "collapsed": true
   },
   "outputs": [],
   "source": [
    "from IPython.display import display, HTML, Image\n",
    "\n",
    "from sklearn.base import BaseEstimator, ClassifierMixin\n",
    "\n",
    "import pandas as pd\n",
    "import numpy as np\n",
    "\n",
    "from sklearn.tree import export_graphviz\n",
    "from sklearn.model_selection import train_test_split\n",
    "from sklearn.tree import DecisionTreeClassifier \n",
    "from sklearn.ensemble import RandomForestClassifier, GradientBoostingClassifier\n",
    "from sklearn.model_selection import KFold\n",
    "from sklearn import metrics\n",
    "from sklearn.model_selection import cross_val_score\n",
    "from sklearn.metrics import roc_curve, auc\n",
    "from sklearn.preprocessing import label_binarize\n",
    "from sklearn.pipeline import Pipeline\n",
    "from sklearn.model_selection import GridSearchCV\n",
    "from sklearn import svm\n",
    "from sklearn import neighbors\n",
    "from sklearn import linear_model\n",
    "from sklearn import naive_bayes\n",
    "from sklearn import ensemble\n",
    "from sklearn import tree\n",
    "from sklearn.kernel_approximation import Nystroem\n",
    "from sklearn.kernel_approximation import RBFSampler\n",
    "from pandas.plotting import scatter_matrix\n",
    "from sklearn import datasets, svm, linear_model, neighbors, svm\n",
    "import itertools\n",
    "import sklearn.cross_validation as cv\n",
    "plt.style.use('classic')\n",
    "SEED = 222\n",
    "np.random.seed(SEED)\n",
    "from sklearn.ensemble import AdaBoostClassifier\n",
    "\n",
    "import keras\n",
    "from keras.models import Sequential\n",
    "from keras.layers import Input, GlobalAveragePooling2D, Dropout, Flatten, Conv2D, MaxPooling2D, Dense, Activation\n",
    "from keras.optimizers import RMSprop, adam\n",
    "from keras.utils import np_utils\n",
    "from keras.utils.np_utils import to_categorical\n",
    "\n",
    "from keras.wrappers.scikit_learn import KerasClassifier\n",
    "\n",
    "import matplotlib.pyplot as plt\n",
    "\n",
    "\n",
    "%matplotlib inline\n",
    "\n",
    "import warnings\n",
    "warnings.filterwarnings(\"ignore\")"
   ]
  },
  {
   "cell_type": "markdown",
   "metadata": {},
   "source": [
    "### Load & Partition State Data"
   ]
  },
  {
   "cell_type": "code",
   "execution_count": 119,
   "metadata": {},
   "outputs": [
    {
     "data": {
      "text/html": [
       "<div>\n",
       "<style scoped>\n",
       "    .dataframe tbody tr th:only-of-type {\n",
       "        vertical-align: middle;\n",
       "    }\n",
       "\n",
       "    .dataframe tbody tr th {\n",
       "        vertical-align: top;\n",
       "    }\n",
       "\n",
       "    .dataframe thead th {\n",
       "        text-align: right;\n",
       "    }\n",
       "</style>\n",
       "<table border=\"1\" class=\"dataframe\">\n",
       "  <thead>\n",
       "    <tr style=\"text-align: right;\">\n",
       "      <th></th>\n",
       "      <th>step</th>\n",
       "      <th>pos_x</th>\n",
       "      <th>pos_y</th>\n",
       "      <th>vel_x</th>\n",
       "      <th>vel_y</th>\n",
       "      <th>ship_lander_angle</th>\n",
       "      <th>ship_lander_angular_vel</th>\n",
       "      <th>leg_1_ground_contact</th>\n",
       "      <th>leg_2_ground_contact</th>\n",
       "      <th>action</th>\n",
       "    </tr>\n",
       "  </thead>\n",
       "  <tbody>\n",
       "    <tr>\n",
       "      <th>0</th>\n",
       "      <td>0</td>\n",
       "      <td>-0.004053</td>\n",
       "      <td>0.937387</td>\n",
       "      <td>-0.410560</td>\n",
       "      <td>-0.215127</td>\n",
       "      <td>0.004703</td>\n",
       "      <td>0.092998</td>\n",
       "      <td>0.0</td>\n",
       "      <td>0.0</td>\n",
       "      <td>3</td>\n",
       "    </tr>\n",
       "    <tr>\n",
       "      <th>1</th>\n",
       "      <td>1</td>\n",
       "      <td>-0.008040</td>\n",
       "      <td>0.933774</td>\n",
       "      <td>-0.401600</td>\n",
       "      <td>-0.240878</td>\n",
       "      <td>0.007613</td>\n",
       "      <td>0.058204</td>\n",
       "      <td>0.0</td>\n",
       "      <td>0.0</td>\n",
       "      <td>3</td>\n",
       "    </tr>\n",
       "    <tr>\n",
       "      <th>2</th>\n",
       "      <td>2</td>\n",
       "      <td>-0.011951</td>\n",
       "      <td>0.929763</td>\n",
       "      <td>-0.392188</td>\n",
       "      <td>-0.267401</td>\n",
       "      <td>0.008632</td>\n",
       "      <td>0.020372</td>\n",
       "      <td>0.0</td>\n",
       "      <td>0.0</td>\n",
       "      <td>3</td>\n",
       "    </tr>\n",
       "    <tr>\n",
       "      <th>3</th>\n",
       "      <td>3</td>\n",
       "      <td>-0.015796</td>\n",
       "      <td>0.925359</td>\n",
       "      <td>-0.383742</td>\n",
       "      <td>-0.293582</td>\n",
       "      <td>0.007955</td>\n",
       "      <td>-0.013536</td>\n",
       "      <td>0.0</td>\n",
       "      <td>0.0</td>\n",
       "      <td>3</td>\n",
       "    </tr>\n",
       "    <tr>\n",
       "      <th>4</th>\n",
       "      <td>4</td>\n",
       "      <td>-0.019576</td>\n",
       "      <td>0.920563</td>\n",
       "      <td>-0.375744</td>\n",
       "      <td>-0.319748</td>\n",
       "      <td>0.005674</td>\n",
       "      <td>-0.045625</td>\n",
       "      <td>0.0</td>\n",
       "      <td>0.0</td>\n",
       "      <td>3</td>\n",
       "    </tr>\n",
       "  </tbody>\n",
       "</table>\n",
       "</div>"
      ],
      "text/plain": [
       "   step     pos_x     pos_y     vel_x     vel_y  ship_lander_angle  \\\n",
       "0     0 -0.004053  0.937387 -0.410560 -0.215127           0.004703   \n",
       "1     1 -0.008040  0.933774 -0.401600 -0.240878           0.007613   \n",
       "2     2 -0.011951  0.929763 -0.392188 -0.267401           0.008632   \n",
       "3     3 -0.015796  0.925359 -0.383742 -0.293582           0.007955   \n",
       "4     4 -0.019576  0.920563 -0.375744 -0.319748           0.005674   \n",
       "\n",
       "   ship_lander_angular_vel  leg_1_ground_contact  leg_2_ground_contact  action  \n",
       "0                 0.092998                   0.0                   0.0       3  \n",
       "1                 0.058204                   0.0                   0.0       3  \n",
       "2                 0.020372                   0.0                   0.0       3  \n",
       "3                -0.013536                   0.0                   0.0       3  \n",
       "4                -0.045625                   0.0                   0.0       3  "
      ]
     },
     "metadata": {},
     "output_type": "display_data"
    }
   ],
   "source": [
    "dataset = pd.read_csv('state_vectors_2018-04-09-18-25-26.csv')\n",
    "display(dataset.head())"
   ]
  },
  {
   "cell_type": "code",
   "execution_count": 120,
   "metadata": {
    "collapsed": true
   },
   "outputs": [],
   "source": [
    "X = dataset[['pos_x',\n",
    " 'pos_y',  \n",
    " 'vel_x',\n",
    " 'vel_y',\n",
    " 'ship_lander_angle',\n",
    " 'ship_lander_angular_vel',\n",
    " 'leg_1_ground_contact',\n",
    " 'leg_2_ground_contact']]\n",
    "y = dataset[\"action\"]\n",
    "\n",
    "# Splitting into train, test and validation set\n",
    "X_train_plus_valid, X_test, y_train_plus_valid, y_test \\\n",
    "    = train_test_split(X, y, random_state=0, \\\n",
    "                                    train_size = 0.7, shuffle = False)\n",
    "\n",
    "X_train, X_valid, y_train, y_valid \\\n",
    "    = train_test_split(X_train_plus_valid, \\\n",
    "                                        y_train_plus_valid, \\\n",
    "                                        random_state=0, \\\n",
    "                                        train_size = 0.5/0.7, shuffle = False)\n",
    "    \n",
    "y_train_plus_valid_ann = to_categorical(y_train_plus_valid,4)"
   ]
  },
  {
   "cell_type": "markdown",
   "metadata": {},
   "source": [
    "### Classifier 1 - Decision Tree"
   ]
  },
  {
   "cell_type": "markdown",
   "metadata": {},
   "source": [
    "<b>Simple Decision Tree & Evaluation</b>"
   ]
  },
  {
   "cell_type": "code",
   "execution_count": 121,
   "metadata": {},
   "outputs": [
    {
     "data": {
      "text/plain": [
       "DecisionTreeClassifier(class_weight=None, criterion='entropy', max_depth=10,\n",
       "            max_features=None, max_leaf_nodes=None,\n",
       "            min_impurity_decrease=0.0, min_impurity_split=None,\n",
       "            min_samples_leaf=1, min_samples_split=20,\n",
       "            min_weight_fraction_leaf=0.0, presort=False, random_state=None,\n",
       "            splitter='best')"
      ]
     },
     "execution_count": 121,
     "metadata": {},
     "output_type": "execute_result"
    }
   ],
   "source": [
    "# Fitting a simple decision tree\n",
    "decisiontree = tree.DecisionTreeClassifier(criterion=\"entropy\", max_depth=10, min_samples_split=20)\n",
    "\n",
    "decisiontree.fit(X_train,y_train)"
   ]
  },
  {
   "cell_type": "code",
   "execution_count": 122,
   "metadata": {},
   "outputs": [
    {
     "name": "stdout",
     "output_type": "stream",
     "text": [
      "Accuracy with label:0.806572172633839\n",
      "Accuracy: 0.806572172633839\n",
      "             precision    recall  f1-score   support\n",
      "\n",
      "          0       0.85      0.80      0.82     23544\n",
      "          1       0.95      0.39      0.55      1857\n",
      "          2       0.77      0.88      0.82     23113\n",
      "          3       0.92      0.34      0.50      1789\n",
      "\n",
      "avg / total       0.82      0.81      0.80     50303\n",
      "\n",
      "Confusion Matrix\n"
     ]
    },
    {
     "data": {
      "text/html": [
       "<div>\n",
       "<style scoped>\n",
       "    .dataframe tbody tr th:only-of-type {\n",
       "        vertical-align: middle;\n",
       "    }\n",
       "\n",
       "    .dataframe tbody tr th {\n",
       "        vertical-align: top;\n",
       "    }\n",
       "\n",
       "    .dataframe thead th {\n",
       "        text-align: right;\n",
       "    }\n",
       "</style>\n",
       "<table border=\"1\" class=\"dataframe\">\n",
       "  <thead>\n",
       "    <tr style=\"text-align: right;\">\n",
       "      <th>Predicted</th>\n",
       "      <th>0</th>\n",
       "      <th>1</th>\n",
       "      <th>2</th>\n",
       "      <th>3</th>\n",
       "      <th>All</th>\n",
       "    </tr>\n",
       "    <tr>\n",
       "      <th>True</th>\n",
       "      <th></th>\n",
       "      <th></th>\n",
       "      <th></th>\n",
       "      <th></th>\n",
       "      <th></th>\n",
       "    </tr>\n",
       "  </thead>\n",
       "  <tbody>\n",
       "    <tr>\n",
       "      <th>0</th>\n",
       "      <td>18804</td>\n",
       "      <td>16</td>\n",
       "      <td>4710</td>\n",
       "      <td>14</td>\n",
       "      <td>23544</td>\n",
       "    </tr>\n",
       "    <tr>\n",
       "      <th>1</th>\n",
       "      <td>355</td>\n",
       "      <td>716</td>\n",
       "      <td>786</td>\n",
       "      <td>0</td>\n",
       "      <td>1857</td>\n",
       "    </tr>\n",
       "    <tr>\n",
       "      <th>2</th>\n",
       "      <td>2611</td>\n",
       "      <td>18</td>\n",
       "      <td>20445</td>\n",
       "      <td>39</td>\n",
       "      <td>23113</td>\n",
       "    </tr>\n",
       "    <tr>\n",
       "      <th>3</th>\n",
       "      <td>409</td>\n",
       "      <td>0</td>\n",
       "      <td>772</td>\n",
       "      <td>608</td>\n",
       "      <td>1789</td>\n",
       "    </tr>\n",
       "    <tr>\n",
       "      <th>All</th>\n",
       "      <td>22179</td>\n",
       "      <td>750</td>\n",
       "      <td>26713</td>\n",
       "      <td>661</td>\n",
       "      <td>50303</td>\n",
       "    </tr>\n",
       "  </tbody>\n",
       "</table>\n",
       "</div>"
      ],
      "text/plain": [
       "Predicted      0    1      2    3    All\n",
       "True                                    \n",
       "0          18804   16   4710   14  23544\n",
       "1            355  716    786    0   1857\n",
       "2           2611   18  20445   39  23113\n",
       "3            409    0    772  608   1789\n",
       "All        22179  750  26713  661  50303"
      ]
     },
     "execution_count": 122,
     "metadata": {},
     "output_type": "execute_result"
    }
   ],
   "source": [
    "# Predicting on the simple decision tree\n",
    "predict = decisiontree.predict(X_valid)\n",
    "\n",
    "# Print performance details for the simple tree\n",
    "accuracy = metrics.accuracy_score(predict,y_valid)\n",
    "print (\"Accuracy with label:\" +str(accuracy))\n",
    "print(\"Accuracy: \" +  str(accuracy))\n",
    "\n",
    "# Print classification report\n",
    "print(metrics.classification_report(y_valid, predict))\n",
    "\n",
    "# Print confusion matrix\n",
    "print(\"Confusion Matrix\")\n",
    "pd.crosstab(np.array(y_valid), predict, rownames=['True'], colnames=['Predicted'], margins=True)"
   ]
  },
  {
   "cell_type": "markdown",
   "metadata": {},
   "source": [
    "<b> Tuned Decision Tree & Evaluation</b>"
   ]
  },
  {
   "cell_type": "code",
   "execution_count": 123,
   "metadata": {},
   "outputs": [
    {
     "data": {
      "text/plain": [
       "{'criterion': 'entropy', 'max_depth': 5, 'min_samples_split': 20}"
      ]
     },
     "metadata": {},
     "output_type": "display_data"
    },
    {
     "data": {
      "text/plain": [
       "0.7758125163298458"
      ]
     },
     "metadata": {},
     "output_type": "display_data"
    }
   ],
   "source": [
    "# Parameter List\n",
    "param_grid ={'criterion': ['gini', \"entropy\"], 'max_depth': list(range(5, 10, 20)), 'min_samples_split': [20,50] }\n",
    "\n",
    "# Perform the Grid search\n",
    "tuned_dt = GridSearchCV(tree.DecisionTreeClassifier(), param_grid, cv=2)\n",
    "tuned_dt.fit(X_train_plus_valid, y_train_plus_valid)\n",
    "\n",
    "# Print best parameter set\n",
    "display(tuned_dt.best_params_)\n",
    "display(tuned_dt.best_score_)"
   ]
  },
  {
   "cell_type": "code",
   "execution_count": 124,
   "metadata": {},
   "outputs": [
    {
     "name": "stdout",
     "output_type": "stream",
     "text": [
      "Accuracy with label:0.7740212579849974\n",
      "             precision    recall  f1-score   support\n",
      "\n",
      "          0       0.93      0.66      0.77     35282\n",
      "          1       0.99      0.28      0.43      2876\n",
      "          2       0.69      0.97      0.81     34754\n",
      "          3       0.93      0.27      0.42      2542\n",
      "\n",
      "avg / total       0.82      0.77      0.76     75454\n",
      "\n",
      "Confusion Matrix\n"
     ]
    },
    {
     "data": {
      "text/html": [
       "<div>\n",
       "<style scoped>\n",
       "    .dataframe tbody tr th:only-of-type {\n",
       "        vertical-align: middle;\n",
       "    }\n",
       "\n",
       "    .dataframe tbody tr th {\n",
       "        vertical-align: top;\n",
       "    }\n",
       "\n",
       "    .dataframe thead th {\n",
       "        text-align: right;\n",
       "    }\n",
       "</style>\n",
       "<table border=\"1\" class=\"dataframe\">\n",
       "  <thead>\n",
       "    <tr style=\"text-align: right;\">\n",
       "      <th>Predicted</th>\n",
       "      <th>0</th>\n",
       "      <th>1</th>\n",
       "      <th>2</th>\n",
       "      <th>3</th>\n",
       "      <th>All</th>\n",
       "    </tr>\n",
       "    <tr>\n",
       "      <th>True</th>\n",
       "      <th></th>\n",
       "      <th></th>\n",
       "      <th></th>\n",
       "      <th></th>\n",
       "      <th></th>\n",
       "    </tr>\n",
       "  </thead>\n",
       "  <tbody>\n",
       "    <tr>\n",
       "      <th>0</th>\n",
       "      <td>23265</td>\n",
       "      <td>9</td>\n",
       "      <td>11953</td>\n",
       "      <td>55</td>\n",
       "      <td>35282</td>\n",
       "    </tr>\n",
       "    <tr>\n",
       "      <th>1</th>\n",
       "      <td>463</td>\n",
       "      <td>800</td>\n",
       "      <td>1613</td>\n",
       "      <td>0</td>\n",
       "      <td>2876</td>\n",
       "    </tr>\n",
       "    <tr>\n",
       "      <th>2</th>\n",
       "      <td>1101</td>\n",
       "      <td>0</td>\n",
       "      <td>33653</td>\n",
       "      <td>0</td>\n",
       "      <td>34754</td>\n",
       "    </tr>\n",
       "    <tr>\n",
       "      <th>3</th>\n",
       "      <td>256</td>\n",
       "      <td>0</td>\n",
       "      <td>1601</td>\n",
       "      <td>685</td>\n",
       "      <td>2542</td>\n",
       "    </tr>\n",
       "    <tr>\n",
       "      <th>All</th>\n",
       "      <td>25085</td>\n",
       "      <td>809</td>\n",
       "      <td>48820</td>\n",
       "      <td>740</td>\n",
       "      <td>75454</td>\n",
       "    </tr>\n",
       "  </tbody>\n",
       "</table>\n",
       "</div>"
      ],
      "text/plain": [
       "Predicted      0    1      2    3    All\n",
       "True                                    \n",
       "0          23265    9  11953   55  35282\n",
       "1            463  800   1613    0   2876\n",
       "2           1101    0  33653    0  34754\n",
       "3            256    0   1601  685   2542\n",
       "All        25085  809  48820  740  75454"
      ]
     },
     "execution_count": 124,
     "metadata": {},
     "output_type": "execute_result"
    }
   ],
   "source": [
    "# Test the tuned tree\n",
    "predict = tuned_dt.predict(X_test)\n",
    "\n",
    "# Print performance details for the tuned tree\n",
    "accuracy = metrics.accuracy_score(predict,y_test)\n",
    "model_test_accuracy_compare = dict()\n",
    "model_test_accuracy_compare[\"Tuned Decision Tree\"] = accuracy\n",
    "print (\"Accuracy with label:\" +str(accuracy))\n",
    "\n",
    "# Print classification report\n",
    "print(metrics.classification_report(y_test, predict))\n",
    "\n",
    "# Print confusion matrix\n",
    "print(\"Confusion Matrix\")\n",
    "pd.crosstab(y_test, predict, rownames=['True'], colnames=['Predicted'], margins=True)"
   ]
  },
  {
   "cell_type": "markdown",
   "metadata": {},
   "source": [
    "### Classifier 2 - Random Forest Classifier"
   ]
  },
  {
   "cell_type": "markdown",
   "metadata": {},
   "source": [
    "<b> Simple Random Forest Classifier & Evaluation </b>"
   ]
  },
  {
   "cell_type": "code",
   "execution_count": 125,
   "metadata": {},
   "outputs": [
    {
     "data": {
      "text/plain": [
       "RandomForestClassifier(bootstrap=True, class_weight=None, criterion='gini',\n",
       "            max_depth=None, max_features='auto', max_leaf_nodes=None,\n",
       "            min_impurity_decrease=0.0, min_impurity_split=None,\n",
       "            min_samples_leaf=1, min_samples_split=200,\n",
       "            min_weight_fraction_leaf=0.0, n_estimators=100, n_jobs=1,\n",
       "            oob_score=False, random_state=None, verbose=0,\n",
       "            warm_start=False)"
      ]
     },
     "execution_count": 125,
     "metadata": {},
     "output_type": "execute_result"
    }
   ],
   "source": [
    "# Fitting a simple random forest classifier\n",
    "rfc = ensemble.RandomForestClassifier(n_estimators=100, min_samples_split=200)\n",
    "\n",
    "rfc.fit(X_train,y_train)"
   ]
  },
  {
   "cell_type": "code",
   "execution_count": 126,
   "metadata": {},
   "outputs": [
    {
     "name": "stdout",
     "output_type": "stream",
     "text": [
      "Accuracy: 0.8348408643619665\n",
      "             precision    recall  f1-score   support\n",
      "\n",
      "          0       0.91      0.80      0.85     23544\n",
      "          1       1.00      0.36      0.53      1857\n",
      "          2       0.77      0.95      0.85     23113\n",
      "          3       1.00      0.32      0.48      1789\n",
      "\n",
      "avg / total       0.85      0.83      0.83     50303\n",
      "\n",
      "Confusion Matrix\n"
     ]
    },
    {
     "data": {
      "text/html": [
       "<div>\n",
       "<style scoped>\n",
       "    .dataframe tbody tr th:only-of-type {\n",
       "        vertical-align: middle;\n",
       "    }\n",
       "\n",
       "    .dataframe tbody tr th {\n",
       "        vertical-align: top;\n",
       "    }\n",
       "\n",
       "    .dataframe thead th {\n",
       "        text-align: right;\n",
       "    }\n",
       "</style>\n",
       "<table border=\"1\" class=\"dataframe\">\n",
       "  <thead>\n",
       "    <tr style=\"text-align: right;\">\n",
       "      <th>Predicted</th>\n",
       "      <th>0</th>\n",
       "      <th>1</th>\n",
       "      <th>2</th>\n",
       "      <th>3</th>\n",
       "      <th>All</th>\n",
       "    </tr>\n",
       "    <tr>\n",
       "      <th>True</th>\n",
       "      <th></th>\n",
       "      <th></th>\n",
       "      <th></th>\n",
       "      <th></th>\n",
       "      <th></th>\n",
       "    </tr>\n",
       "  </thead>\n",
       "  <tbody>\n",
       "    <tr>\n",
       "      <th>0</th>\n",
       "      <td>18727</td>\n",
       "      <td>0</td>\n",
       "      <td>4816</td>\n",
       "      <td>1</td>\n",
       "      <td>23544</td>\n",
       "    </tr>\n",
       "    <tr>\n",
       "      <th>1</th>\n",
       "      <td>362</td>\n",
       "      <td>670</td>\n",
       "      <td>825</td>\n",
       "      <td>0</td>\n",
       "      <td>1857</td>\n",
       "    </tr>\n",
       "    <tr>\n",
       "      <th>2</th>\n",
       "      <td>1082</td>\n",
       "      <td>0</td>\n",
       "      <td>22031</td>\n",
       "      <td>0</td>\n",
       "      <td>23113</td>\n",
       "    </tr>\n",
       "    <tr>\n",
       "      <th>3</th>\n",
       "      <td>362</td>\n",
       "      <td>0</td>\n",
       "      <td>860</td>\n",
       "      <td>567</td>\n",
       "      <td>1789</td>\n",
       "    </tr>\n",
       "    <tr>\n",
       "      <th>All</th>\n",
       "      <td>20533</td>\n",
       "      <td>670</td>\n",
       "      <td>28532</td>\n",
       "      <td>568</td>\n",
       "      <td>50303</td>\n",
       "    </tr>\n",
       "  </tbody>\n",
       "</table>\n",
       "</div>"
      ],
      "text/plain": [
       "Predicted      0    1      2    3    All\n",
       "True                                    \n",
       "0          18727    0   4816    1  23544\n",
       "1            362  670    825    0   1857\n",
       "2           1082    0  22031    0  23113\n",
       "3            362    0    860  567   1789\n",
       "All        20533  670  28532  568  50303"
      ]
     },
     "execution_count": 126,
     "metadata": {},
     "output_type": "execute_result"
    }
   ],
   "source": [
    "# Predicting on the simple random forest classifier\n",
    "predict = rfc.predict(X_valid)\n",
    "\n",
    "# Print performance details for the simple random forest classifier\n",
    "accuracy = metrics.accuracy_score(y_valid, predict)\n",
    "print(\"Accuracy: \" +  str(accuracy))\n",
    "\n",
    "# Print classification report\n",
    "print(metrics.classification_report(y_valid, predict))\n",
    "\n",
    "# Print confusion matrix\n",
    "print(\"Confusion Matrix\")\n",
    "pd.crosstab(np.array(y_valid), predict, rownames=['True'], colnames=['Predicted'], margins=True)"
   ]
  },
  {
   "cell_type": "markdown",
   "metadata": {},
   "source": [
    "<b> Tuned Random Forest Classifier & Evaluation </b>"
   ]
  },
  {
   "cell_type": "code",
   "execution_count": 127,
   "metadata": {},
   "outputs": [
    {
     "name": "stdout",
     "output_type": "stream",
     "text": [
      "{'n_estimators': 50, 'min_samples_split': 10}\n",
      "0.8743311863136012\n"
     ]
    }
   ],
   "source": [
    "# parameter list\n",
    "param_grid = [{'n_estimators': list(range(50, 100, 150)), 'min_samples_split': [10, 20, 30]}]\n",
    "\n",
    "# Perform the grid search\n",
    "tuned_rfc = GridSearchCV(ensemble.RandomForestClassifier(), param_grid, cv=2)\n",
    "tuned_rfc.fit(X_train_plus_valid, y_train_plus_valid)\n",
    "\n",
    "# Print best parameter set\n",
    "print(tuned_rfc.best_params_)\n",
    "print(tuned_rfc.best_score_)"
   ]
  },
  {
   "cell_type": "code",
   "execution_count": 128,
   "metadata": {},
   "outputs": [
    {
     "name": "stdout",
     "output_type": "stream",
     "text": [
      "Accuracy with label:0.8870040024385718\n",
      "             precision    recall  f1-score   support\n",
      "\n",
      "          0       0.92      0.88      0.90     35282\n",
      "          1       0.95      0.46      0.62      2876\n",
      "          2       0.85      0.96      0.90     34754\n",
      "          3       0.93      0.43      0.59      2542\n",
      "\n",
      "avg / total       0.89      0.89      0.88     75454\n",
      "\n",
      "Confusion Matrix\n"
     ]
    },
    {
     "data": {
      "text/html": [
       "<div>\n",
       "<style scoped>\n",
       "    .dataframe tbody tr th:only-of-type {\n",
       "        vertical-align: middle;\n",
       "    }\n",
       "\n",
       "    .dataframe tbody tr th {\n",
       "        vertical-align: top;\n",
       "    }\n",
       "\n",
       "    .dataframe thead th {\n",
       "        text-align: right;\n",
       "    }\n",
       "</style>\n",
       "<table border=\"1\" class=\"dataframe\">\n",
       "  <thead>\n",
       "    <tr style=\"text-align: right;\">\n",
       "      <th>Predicted</th>\n",
       "      <th>0</th>\n",
       "      <th>1</th>\n",
       "      <th>2</th>\n",
       "      <th>3</th>\n",
       "      <th>All</th>\n",
       "    </tr>\n",
       "    <tr>\n",
       "      <th>True</th>\n",
       "      <th></th>\n",
       "      <th></th>\n",
       "      <th></th>\n",
       "      <th></th>\n",
       "      <th></th>\n",
       "    </tr>\n",
       "  </thead>\n",
       "  <tbody>\n",
       "    <tr>\n",
       "      <th>0</th>\n",
       "      <td>31125</td>\n",
       "      <td>37</td>\n",
       "      <td>4077</td>\n",
       "      <td>43</td>\n",
       "      <td>35282</td>\n",
       "    </tr>\n",
       "    <tr>\n",
       "      <th>1</th>\n",
       "      <td>634</td>\n",
       "      <td>1313</td>\n",
       "      <td>929</td>\n",
       "      <td>0</td>\n",
       "      <td>2876</td>\n",
       "    </tr>\n",
       "    <tr>\n",
       "      <th>2</th>\n",
       "      <td>1276</td>\n",
       "      <td>34</td>\n",
       "      <td>33401</td>\n",
       "      <td>43</td>\n",
       "      <td>34754</td>\n",
       "    </tr>\n",
       "    <tr>\n",
       "      <th>3</th>\n",
       "      <td>615</td>\n",
       "      <td>0</td>\n",
       "      <td>838</td>\n",
       "      <td>1089</td>\n",
       "      <td>2542</td>\n",
       "    </tr>\n",
       "    <tr>\n",
       "      <th>All</th>\n",
       "      <td>33650</td>\n",
       "      <td>1384</td>\n",
       "      <td>39245</td>\n",
       "      <td>1175</td>\n",
       "      <td>75454</td>\n",
       "    </tr>\n",
       "  </tbody>\n",
       "</table>\n",
       "</div>"
      ],
      "text/plain": [
       "Predicted      0     1      2     3    All\n",
       "True                                      \n",
       "0          31125    37   4077    43  35282\n",
       "1            634  1313    929     0   2876\n",
       "2           1276    34  33401    43  34754\n",
       "3            615     0    838  1089   2542\n",
       "All        33650  1384  39245  1175  75454"
      ]
     },
     "execution_count": 128,
     "metadata": {},
     "output_type": "execute_result"
    }
   ],
   "source": [
    "# Predicting on the tuned random forest classifier\n",
    "predict = tuned_rfc.predict(X_test)\n",
    "\n",
    "# Print Performance details for the tuned random forest classifier\n",
    "accuracy = metrics.accuracy_score(predict,y_test)\n",
    "model_test_accuracy_compare[\"Tuned Random Forest Tree\"] = accuracy\n",
    "print (\"Accuracy with label:\" +str(accuracy))\n",
    "\n",
    "# Print Classification Report\n",
    "print(metrics.classification_report(y_test, predict))\n",
    "\n",
    "# Print confusion matrix\n",
    "print(\"Confusion Matrix\")\n",
    "pd.crosstab(y_test, predict, rownames=['True'], colnames=['Predicted'], margins=True)"
   ]
  },
  {
   "cell_type": "markdown",
   "metadata": {},
   "source": [
    "### Classifier 3 - ANN "
   ]
  },
  {
   "cell_type": "markdown",
   "metadata": {},
   "source": [
    "<b> Simple ANN Model & Evaluation </b>"
   ]
  },
  {
   "cell_type": "code",
   "execution_count": 129,
   "metadata": {},
   "outputs": [
    {
     "name": "stdout",
     "output_type": "stream",
     "text": [
      "_________________________________________________________________\n",
      "Layer (type)                 Output Shape              Param #   \n",
      "=================================================================\n",
      "dense_321 (Dense)            (None, 32)                288       \n",
      "_________________________________________________________________\n",
      "activation_321 (Activation)  (None, 32)                0         \n",
      "_________________________________________________________________\n",
      "dense_322 (Dense)            (None, 16)                528       \n",
      "_________________________________________________________________\n",
      "activation_322 (Activation)  (None, 16)                0         \n",
      "_________________________________________________________________\n",
      "dense_323 (Dense)            (None, 8)                 136       \n",
      "_________________________________________________________________\n",
      "activation_323 (Activation)  (None, 8)                 0         \n",
      "_________________________________________________________________\n",
      "dense_324 (Dense)            (None, 4)                 36        \n",
      "_________________________________________________________________\n",
      "activation_324 (Activation)  (None, 4)                 0         \n",
      "=================================================================\n",
      "Total params: 988\n",
      "Trainable params: 988\n",
      "Non-trainable params: 0\n",
      "_________________________________________________________________\n"
     ]
    }
   ],
   "source": [
    "# Define a simple ANN model\n",
    "model = Sequential()\n",
    "\n",
    "model.add(Dense(input_dim=8, units=32))\n",
    "model.add(Activation(\"relu\"))\n",
    "\n",
    "model.add(Dense(units=16))\n",
    "model.add(Activation(\"relu\"))\n",
    "\n",
    "model.add(Dense(units=8))\n",
    "model.add(Activation(\"relu\"))\n",
    "\n",
    "model.add(Dense(units=4))\n",
    "model.add(Activation(\"softmax\"))\n",
    "\n",
    "model.summary()"
   ]
  },
  {
   "cell_type": "code",
   "execution_count": 130,
   "metadata": {
    "collapsed": true
   },
   "outputs": [],
   "source": [
    "# Compile the simple ANN model\n",
    "model.compile(optimizer = 'adam', loss = 'binary_crossentropy', metrics = ['accuracy'])"
   ]
  },
  {
   "cell_type": "code",
   "execution_count": 131,
   "metadata": {},
   "outputs": [
    {
     "name": "stdout",
     "output_type": "stream",
     "text": [
      "Train on 132043 samples, validate on 44015 samples\n",
      "Epoch 1/30\n",
      "132043/132043 [==============================] - 7s 56us/step - loss: 0.2966 - acc: 0.8669 - val_loss: 0.2575 - val_acc: 0.9007\n",
      "Epoch 2/30\n",
      "132043/132043 [==============================] - 4s 32us/step - loss: 0.1930 - acc: 0.9267 - val_loss: 0.1691 - val_acc: 0.9426\n",
      "Epoch 3/30\n",
      "132043/132043 [==============================] - 5s 36us/step - loss: 0.1351 - acc: 0.9515 - val_loss: 0.1249 - val_acc: 0.9581\n",
      "Epoch 4/30\n",
      "132043/132043 [==============================] - 4s 34us/step - loss: 0.1056 - acc: 0.9616 - val_loss: 0.1117 - val_acc: 0.9623\n",
      "Epoch 5/30\n",
      "132043/132043 [==============================] - 4s 33us/step - loss: 0.0930 - acc: 0.9658 - val_loss: 0.1042 - val_acc: 0.9640\n",
      "Epoch 6/30\n",
      "132043/132043 [==============================] - 5s 38us/step - loss: 0.0854 - acc: 0.9683 - val_loss: 0.0943 - val_acc: 0.9700\n",
      "Epoch 7/30\n",
      "132043/132043 [==============================] - 5s 39us/step - loss: 0.0790 - acc: 0.9713 - val_loss: 0.0909 - val_acc: 0.9707\n",
      "Epoch 8/30\n",
      "132043/132043 [==============================] - 5s 34us/step - loss: 0.0740 - acc: 0.9734 - val_loss: 0.0874 - val_acc: 0.9742\n",
      "Epoch 9/30\n",
      "132043/132043 [==============================] - 4s 33us/step - loss: 0.0691 - acc: 0.9753 - val_loss: 0.0806 - val_acc: 0.9763\n",
      "Epoch 10/30\n",
      "132043/132043 [==============================] - 4s 30us/step - loss: 0.0644 - acc: 0.9774 - val_loss: 0.0794 - val_acc: 0.9748\n",
      "Epoch 11/30\n",
      "132043/132043 [==============================] - 4s 28us/step - loss: 0.0612 - acc: 0.9784 - val_loss: 0.0760 - val_acc: 0.9753\n",
      "Epoch 12/30\n",
      "132043/132043 [==============================] - 4s 31us/step - loss: 0.0581 - acc: 0.9793 - val_loss: 0.0679 - val_acc: 0.9809\n",
      "Epoch 13/30\n",
      "132043/132043 [==============================] - 4s 32us/step - loss: 0.0548 - acc: 0.9806 - val_loss: 0.0662 - val_acc: 0.9817\n",
      "Epoch 14/30\n",
      "132043/132043 [==============================] - 4s 33us/step - loss: 0.0518 - acc: 0.9818 - val_loss: 0.0644 - val_acc: 0.9813\n",
      "Epoch 15/30\n",
      "132043/132043 [==============================] - 5s 39us/step - loss: 0.0508 - acc: 0.9819 - val_loss: 0.0816 - val_acc: 0.9712\n",
      "Epoch 16/30\n",
      "132043/132043 [==============================] - 5s 40us/step - loss: 0.0483 - acc: 0.9827 - val_loss: 0.0622 - val_acc: 0.9815\n",
      "Epoch 17/30\n",
      "132043/132043 [==============================] - 5s 38us/step - loss: 0.0464 - acc: 0.9834 - val_loss: 0.0615 - val_acc: 0.9813\n",
      "Epoch 18/30\n",
      "132043/132043 [==============================] - 4s 31us/step - loss: 0.0462 - acc: 0.9832 - val_loss: 0.0607 - val_acc: 0.9828\n",
      "Epoch 19/30\n",
      "132043/132043 [==============================] - 4s 29us/step - loss: 0.0434 - acc: 0.9846 - val_loss: 0.0624 - val_acc: 0.9801\n",
      "Epoch 20/30\n",
      "132043/132043 [==============================] - 5s 36us/step - loss: 0.0422 - acc: 0.9847 - val_loss: 0.0575 - val_acc: 0.9845\n",
      "Epoch 21/30\n",
      "132043/132043 [==============================] - 5s 37us/step - loss: 0.0415 - acc: 0.9851 - val_loss: 0.0589 - val_acc: 0.9838\n",
      "Epoch 22/30\n",
      "132043/132043 [==============================] - 5s 41us/step - loss: 0.0406 - acc: 0.9850 - val_loss: 0.0605 - val_acc: 0.9820\n",
      "Epoch 23/30\n",
      "132043/132043 [==============================] - 5s 37us/step - loss: 0.0404 - acc: 0.9851 - val_loss: 0.0611 - val_acc: 0.9816\n",
      "Epoch 24/30\n",
      "132043/132043 [==============================] - 5s 37us/step - loss: 0.0388 - acc: 0.9856 - val_loss: 0.0596 - val_acc: 0.9837\n",
      "Epoch 25/30\n",
      "132043/132043 [==============================] - 5s 38us/step - loss: 0.0392 - acc: 0.9855 - val_loss: 0.0599 - val_acc: 0.9829\n",
      "Epoch 26/30\n",
      "132043/132043 [==============================] - 5s 38us/step - loss: 0.0387 - acc: 0.9854 - val_loss: 0.0630 - val_acc: 0.9817\n",
      "Epoch 27/30\n",
      "132043/132043 [==============================] - 5s 37us/step - loss: 0.0370 - acc: 0.9862 - val_loss: 0.0554 - val_acc: 0.9856\n",
      "Epoch 28/30\n",
      "132043/132043 [==============================] - 5s 38us/step - loss: 0.0367 - acc: 0.9862 - val_loss: 0.0554 - val_acc: 0.9854\n",
      "Epoch 29/30\n",
      "132043/132043 [==============================] - 6s 44us/step - loss: 0.0360 - acc: 0.9866 - val_loss: 0.0539 - val_acc: 0.9856\n",
      "Epoch 30/30\n",
      "132043/132043 [==============================] - 5s 38us/step - loss: 0.0362 - acc: 0.9864 - val_loss: 0.0642 - val_acc: 0.9798\n"
     ]
    }
   ],
   "source": [
    "# Train the simple ANN model\n",
    "epochs = 30\n",
    "\n",
    "batch_size = 128\n",
    "\n",
    "history = model.fit(X_train_plus_valid, y_train_plus_valid_ann, batch_size=batch_size, epochs=epochs, validation_split=0.25, verbose=1, shuffle=True,)"
   ]
  },
  {
   "cell_type": "code",
   "execution_count": 132,
   "metadata": {},
   "outputs": [
    {
     "data": {
      "image/png": "[encoded data removed]",
      "text/plain": [
       "<matplotlib.figure.Figure at 0x1dc0691ddd8>"
      ]
     },
     "metadata": {},
     "output_type": "display_data"
    }
   ],
   "source": [
    "# Plotting evolution of loss for the simple ANN model\n",
    "loss = history.history['loss']\n",
    "val_loss = history.history['val_loss']\n",
    "\n",
    "plt.xlabel('Epochs')\n",
    "plt.ylabel('Loss')\n",
    "\n",
    "plt.plot(loss, 'blue', label='Training Loss')\n",
    "plt.plot(val_loss, 'green', label='Validation Loss')\n",
    "\n",
    "plt.xticks(range(0,epochs)[0::2])\n",
    "plt.legend()\n",
    "\n",
    "plt.show()"
   ]
  },
  {
   "cell_type": "code",
   "execution_count": 133,
   "metadata": {},
   "outputs": [
    {
     "name": "stdout",
     "output_type": "stream",
     "text": [
      "Accuracy: 0.9588093407904154\n",
      "             precision    recall  f1-score   support\n",
      "\n",
      "          0       0.95      0.98      0.96     35282\n",
      "          1       0.95      0.85      0.90      2876\n",
      "          2       0.98      0.95      0.96     34754\n",
      "          3       0.86      0.93      0.89      2542\n",
      "\n",
      "avg / total       0.96      0.96      0.96     75454\n",
      "\n",
      "Confusion Matrix\n",
      "[[34122   102   966    92]\n",
      " [  177  2394   305     0]\n",
      " [   89    34 34561    70]\n",
      " [  162     0    96  2284]]\n"
     ]
    }
   ],
   "source": [
    "# Predicting on the simple ANN model\n",
    "predict = model.predict_classes(X_test)\n",
    "\n",
    "# Print performance details for the simple ANN model\n",
    "accuracy = metrics.accuracy_score(y_test, predict)\n",
    "print(\"Accuracy: \" +  str(accuracy))\n",
    "\n",
    "# Print classification report\n",
    "print(metrics.classification_report(y_test, predict))\n",
    "\n",
    "# Print confusion matrix\n",
    "print(\"Confusion Matrix\")\n",
    "print(metrics.confusion_matrix(y_test, pred))"
   ]
  },
  {
   "cell_type": "markdown",
   "metadata": {},
   "source": [
    "<b> Tuned ANN Model & Evaluation </b>"
   ]
  },
  {
   "cell_type": "code",
   "execution_count": 134,
   "metadata": {},
   "outputs": [
    {
     "name": "stdout",
     "output_type": "stream",
     "text": [
      "Fitting 2 folds for each of 8 candidates, totalling 16 fits\n"
     ]
    },
    {
     "name": "stderr",
     "output_type": "stream",
     "text": [
      "[Parallel(n_jobs=1)]: Done  16 out of  16 | elapsed: 18.7min finished\n"
     ]
    },
    {
     "name": "stdout",
     "output_type": "stream",
     "text": [
      "0.9855445364622842\n",
      "{'layer2': 16, 'layer1': 64, 'layer3': 8, 'layer4': 4}\n"
     ]
    }
   ],
   "source": [
    "# Function to create & compile the tuned ANN model\n",
    "def ann_model(layer1=32, layer2=16, layer3=8, layer4=4):\n",
    "    model = Sequential()\n",
    "    \n",
    "    model.add(Dense(input_dim=8, units=layer1))\n",
    "    model.add(Activation(\"relu\"))          \n",
    "    \n",
    "    model.add(Dense(units=layer2))\n",
    "    model.add(Activation(\"relu\"))\n",
    "    \n",
    "    model.add(Dense(units=layer3))\n",
    "    model.add(Activation(\"relu\"))\n",
    "    \n",
    "    model.add(Dense(units=layer4))\n",
    "    model.add(Activation(\"softmax\"))\n",
    "    \n",
    "    model.compile(loss='binary_crossentropy', optimizer='adam', metrics=['accuracy'])\n",
    "    return model\n",
    "\n",
    "# Define the model\n",
    "model = KerasClassifier(build_fn=ann_model, epochs=30, batch_size=128, verbose=0)\n",
    "\n",
    "# Create parameter set\n",
    "layer1 = [32,64]\n",
    "layer2 = [16,32]\n",
    "layer3 = [8,16]\n",
    "layer4 = [4]\n",
    "\n",
    "param = dict(layer1=layer1, layer2=layer2, layer3=layer3, layer4=layer4)\n",
    "\n",
    "# Perform grid search\n",
    "tuned_ann = GridSearchCV(estimator=model, param_grid=param, cv=2, verbose=1)\n",
    "\n",
    "# Train the tuned model\n",
    "tuned_ann.fit(X_train_plus_valid, y_train_plus_valid_ann)\n",
    "\n",
    "# Print the best set of parameters\n",
    "\n",
    "print(clf.best_score_)\n",
    "print(clf.best_params_)"
   ]
  },
  {
   "cell_type": "code",
   "execution_count": 135,
   "metadata": {},
   "outputs": [
    {
     "name": "stdout",
     "output_type": "stream",
     "text": [
      "_________________________________________________________________\n",
      "Layer (type)                 Output Shape              Param #   \n",
      "=================================================================\n",
      "dense_393 (Dense)            (None, 64)                576       \n",
      "_________________________________________________________________\n",
      "activation_393 (Activation)  (None, 64)                0         \n",
      "_________________________________________________________________\n",
      "dense_394 (Dense)            (None, 16)                1040      \n",
      "_________________________________________________________________\n",
      "activation_394 (Activation)  (None, 16)                0         \n",
      "_________________________________________________________________\n",
      "dense_395 (Dense)            (None, 8)                 136       \n",
      "_________________________________________________________________\n",
      "activation_395 (Activation)  (None, 8)                 0         \n",
      "_________________________________________________________________\n",
      "dense_396 (Dense)            (None, 4)                 36        \n",
      "_________________________________________________________________\n",
      "activation_396 (Activation)  (None, 4)                 0         \n",
      "=================================================================\n",
      "Total params: 1,788\n",
      "Trainable params: 1,788\n",
      "Non-trainable params: 0\n",
      "_________________________________________________________________\n"
     ]
    }
   ],
   "source": [
    "# Apply the best set of parameter to create the tuned ANN model \n",
    "model = Sequential()\n",
    "\n",
    "model.add(Dense(input_dim=8, units=64))\n",
    "model.add(Activation(\"relu\"))\n",
    "\n",
    "model.add(Dense(units=16))\n",
    "model.add(Activation(\"relu\"))\n",
    "\n",
    "model.add(Dense(units=8))\n",
    "model.add(Activation(\"relu\"))\n",
    "\n",
    "model.add(Dense(units=4))\n",
    "model.add(Activation(\"softmax\"))\n",
    "\n",
    "model.summary()"
   ]
  },
  {
   "cell_type": "code",
   "execution_count": 136,
   "metadata": {
    "collapsed": true
   },
   "outputs": [],
   "source": [
    "# Compile the tuned ANN model\n",
    "model.compile(optimizer = 'adam', loss = 'binary_crossentropy', metrics = ['accuracy'])"
   ]
  },
  {
   "cell_type": "code",
   "execution_count": 137,
   "metadata": {},
   "outputs": [
    {
     "name": "stdout",
     "output_type": "stream",
     "text": [
      "Train on 132043 samples, validate on 44015 samples\n",
      "Epoch 1/30\n",
      "132043/132043 [==============================] - 9s 66us/step - loss: 0.2663 - acc: 0.8842 - val_loss: 0.2038 - val_acc: 0.9216\n",
      "Epoch 2/30\n",
      "132043/132043 [==============================] - 5s 40us/step - loss: 0.1469 - acc: 0.9460 - val_loss: 0.1460 - val_acc: 0.9524\n",
      "Epoch 3/30\n",
      "132043/132043 [==============================] - 5s 36us/step - loss: 0.1055 - acc: 0.9617 - val_loss: 0.1173 - val_acc: 0.9636\n",
      "Epoch 4/30\n",
      "132043/132043 [==============================] - 4s 34us/step - loss: 0.0878 - acc: 0.9688 - val_loss: 0.1026 - val_acc: 0.9676\n",
      "Epoch 5/30\n",
      "132043/132043 [==============================] - 4s 34us/step - loss: 0.0774 - acc: 0.9727 - val_loss: 0.0948 - val_acc: 0.9747\n",
      "Epoch 6/30\n",
      "132043/132043 [==============================] - 5s 39us/step - loss: 0.0688 - acc: 0.9755 - val_loss: 0.0971 - val_acc: 0.9676\n",
      "Epoch 7/30\n",
      "132043/132043 [==============================] - 5s 40us/step - loss: 0.0621 - acc: 0.9782 - val_loss: 0.0866 - val_acc: 0.9755\n",
      "Epoch 8/30\n",
      "132043/132043 [==============================] - 5s 36us/step - loss: 0.0570 - acc: 0.9794 - val_loss: 0.0780 - val_acc: 0.9786\n",
      "Epoch 9/30\n",
      "132043/132043 [==============================] - 5s 37us/step - loss: 0.0518 - acc: 0.9815 - val_loss: 0.0743 - val_acc: 0.9792\n",
      "Epoch 10/30\n",
      "132043/132043 [==============================] - 5s 34us/step - loss: 0.0488 - acc: 0.9824 - val_loss: 0.0674 - val_acc: 0.9838\n",
      "Epoch 11/30\n",
      "132043/132043 [==============================] - 5s 35us/step - loss: 0.0463 - acc: 0.9833 - val_loss: 0.0648 - val_acc: 0.9828\n",
      "Epoch 12/30\n",
      "132043/132043 [==============================] - 5s 35us/step - loss: 0.0421 - acc: 0.9850 - val_loss: 0.0682 - val_acc: 0.9798\n",
      "Epoch 13/30\n",
      "132043/132043 [==============================] - 5s 38us/step - loss: 0.0406 - acc: 0.9853 - val_loss: 0.0595 - val_acc: 0.9847\n",
      "Epoch 14/30\n",
      "132043/132043 [==============================] - 4s 34us/step - loss: 0.0397 - acc: 0.9854 - val_loss: 0.0620 - val_acc: 0.9835\n",
      "Epoch 15/30\n",
      "132043/132043 [==============================] - 4s 33us/step - loss: 0.0385 - acc: 0.9856 - val_loss: 0.0592 - val_acc: 0.9840\n",
      "Epoch 16/30\n",
      "132043/132043 [==============================] - 4s 34us/step - loss: 0.0366 - acc: 0.9866 - val_loss: 0.0557 - val_acc: 0.9851\n",
      "Epoch 17/30\n",
      "132043/132043 [==============================] - 4s 33us/step - loss: 0.0352 - acc: 0.9870 - val_loss: 0.0578 - val_acc: 0.9839\n",
      "Epoch 18/30\n",
      "132043/132043 [==============================] - 4s 33us/step - loss: 0.0356 - acc: 0.9867 - val_loss: 0.0562 - val_acc: 0.9838\n",
      "Epoch 19/30\n",
      "132043/132043 [==============================] - 5s 35us/step - loss: 0.0338 - acc: 0.9874 - val_loss: 0.0565 - val_acc: 0.9832\n",
      "Epoch 20/30\n",
      "132043/132043 [==============================] - 5s 34us/step - loss: 0.0338 - acc: 0.9873 - val_loss: 0.0629 - val_acc: 0.9806\n",
      "Epoch 21/30\n",
      "132043/132043 [==============================] - 4s 34us/step - loss: 0.0330 - acc: 0.9877 - val_loss: 0.0513 - val_acc: 0.9869\n",
      "Epoch 22/30\n",
      "132043/132043 [==============================] - 4s 34us/step - loss: 0.0323 - acc: 0.9878 - val_loss: 0.0528 - val_acc: 0.9867\n",
      "Epoch 23/30\n",
      "132043/132043 [==============================] - 4s 33us/step - loss: 0.0314 - acc: 0.9880 - val_loss: 0.0529 - val_acc: 0.9869\n",
      "Epoch 24/30\n",
      "132043/132043 [==============================] - 5s 34us/step - loss: 0.0307 - acc: 0.9883 - val_loss: 0.0496 - val_acc: 0.9883\n",
      "Epoch 25/30\n",
      "132043/132043 [==============================] - 4s 33us/step - loss: 0.0309 - acc: 0.9883 - val_loss: 0.0541 - val_acc: 0.9863\n",
      "Epoch 26/30\n",
      "132043/132043 [==============================] - 5s 36us/step - loss: 0.0303 - acc: 0.9883 - val_loss: 0.0499 - val_acc: 0.9878\n",
      "Epoch 27/30\n",
      "132043/132043 [==============================] - 4s 34us/step - loss: 0.0292 - acc: 0.9889 - val_loss: 0.0543 - val_acc: 0.9869\n",
      "Epoch 28/30\n",
      "132043/132043 [==============================] - 5s 34us/step - loss: 0.0298 - acc: 0.9884 - val_loss: 0.0508 - val_acc: 0.9871\n",
      "Epoch 29/30\n",
      "132043/132043 [==============================] - 5s 35us/step - loss: 0.0296 - acc: 0.9886 - val_loss: 0.0579 - val_acc: 0.9843\n",
      "Epoch 30/30\n",
      "132043/132043 [==============================] - 5s 36us/step - loss: 0.0288 - acc: 0.9886 - val_loss: 0.0525 - val_acc: 0.9841\n"
     ]
    }
   ],
   "source": [
    "# Train the tuned ANN model\n",
    "epochs = 30\n",
    "\n",
    "batch_size = 128\n",
    "\n",
    "history = model.fit(X_train_plus_valid, y_train_plus_valid_ann, batch_size=batch_size, epochs=epochs, validation_split=0.25, verbose=1, shuffle=True,)"
   ]
  },
  {
   "cell_type": "code",
   "execution_count": 138,
   "metadata": {},
   "outputs": [
    {
     "data": {
      "image/png": "[encoded data removed]",
      "text/plain": [
       "<matplotlib.figure.Figure at 0x1dc0e7ff0f0>"
      ]
     },
     "metadata": {},
     "output_type": "display_data"
    }
   ],
   "source": [
    "# Plotting the evolution of loss for the Tuned ANN Model \n",
    "loss = history.history['loss']\n",
    "val_loss = history.history['val_loss']\n",
    "\n",
    "plt.xlabel('Epochs')\n",
    "plt.ylabel('Loss')\n",
    "\n",
    "plt.plot(loss, 'blue', label='Training Loss')\n",
    "plt.plot(val_loss, 'green', label='Validation Loss')\n",
    "\n",
    "plt.xticks(range(0,epochs)[0::2])\n",
    "plt.legend()\n",
    "\n",
    "plt.show()"
   ]
  },
  {
   "cell_type": "code",
   "execution_count": 139,
   "metadata": {},
   "outputs": [
    {
     "name": "stdout",
     "output_type": "stream",
     "text": [
      "Accuracy: 0.9662443342963924\n",
      "             precision    recall  f1-score   support\n",
      "\n",
      "          0       0.95      0.99      0.97     35282\n",
      "          1       0.97      0.89      0.93      2876\n",
      "          2       0.98      0.95      0.97     34754\n",
      "          3       0.91      0.92      0.92      2542\n",
      "\n",
      "avg / total       0.97      0.97      0.97     75454\n",
      "\n",
      "Confusion Matrix\n",
      "[[34827    42   342    71]\n",
      " [  166  2565   145     0]\n",
      " [ 1380    40 33174   160]\n",
      " [  143     0    58  2341]]\n"
     ]
    }
   ],
   "source": [
    "# Predict on the tuned ANN model\n",
    "predict = model.predict_classes(X_test)\n",
    "\n",
    "# Print performance details for the tuned ANN model\n",
    "accuracy = metrics.accuracy_score(y_test, predict)\n",
    "model_test_accuracy_compare[\"Tuned ANN\"] = accuracy\n",
    "print(\"Accuracy: \" +  str(accuracy))\n",
    "\n",
    "# Print classification report\n",
    "print(metrics.classification_report(y_test, predict))\n",
    "\n",
    "# Print confusion matrix\n",
    "print(\"Confusion Matrix\")\n",
    "print(metrics.confusion_matrix(y_test, predict))"
   ]
  },
  {
   "cell_type": "markdown",
   "metadata": {},
   "source": [
    "### Classifier 4 - SuperLearner "
   ]
  },
  {
   "cell_type": "markdown",
   "metadata": {},
   "source": [
    "<b> Simple SuperLerner Classifier & Evaluation </b>"
   ]
  },
  {
   "cell_type": "code",
   "execution_count": 140,
   "metadata": {
    "collapsed": true
   },
   "outputs": [],
   "source": [
    "#Super Learner Class\n",
    "class SuperLearnerClassifier(BaseEstimator,ClassifierMixin):\n",
    "    \n",
    "    def __init__(self, baseModels= None, stackModel=None,predProba=False,useOriginalInput=False,cv_folds=2,K=2,global_stack=None):\n",
    "        self.cv_folds=cv_folds\n",
    "        self.baseModels=baseModels\n",
    "        self.K=K\n",
    "        self.stackModel=stackModel\n",
    "        self.predProba=predProba\n",
    "        self.useOriginalInput=useOriginalInput\n",
    "        self.global_stack=global_stack\n",
    "    #The fit method for the SuperLEarner    \n",
    "    def fit(self,X,y):\n",
    "        #Set of base learners \n",
    "        baseLearnerSet=set(self.baseModels)\n",
    "        \n",
    "        stacked_predictions_fit=[]\n",
    "        #KFold for splitting the data\n",
    "        kf = KFold(n_splits=5)\n",
    "        for train,test in kf.split(X):\n",
    "            X_train=np.array(X)[train]\n",
    "            Y_train=np.array(y)[train]\n",
    "            X_test = np.array(X)[test]\n",
    "            Y_Test = np.array(y)[test]\n",
    "            #Fitting the model using the train data\n",
    "            for i,model in enumerate(self.baseModels):\n",
    "                model.fit(X_train,Y_train)\n",
    "            predicted_values=[]\n",
    "            #making base models predict labels or probabilities based on the predProba flag\n",
    "            for i,model in enumerate(self.baseModels):\n",
    "                if self.predProba==False:\n",
    "                    P=model.predict(X_test)\n",
    "                else:\n",
    "                    P=model.predict_proba(X_test)\n",
    "                predicted_values.append(P.tolist())\n",
    "            stacked_predictions_fit.extend(np.column_stack(predicted_values).tolist())\n",
    "        #Stacking the X with the stacked predictions\n",
    "        if self.useOriginalInput==True:\n",
    "            stacked_predictions_fit = np.column_stack((X,stacked_predictions_fit))\n",
    "\n",
    "        #Training the meta learner\n",
    "        meta_tree= self.stackModel\n",
    "        self.global_stack=stacked_predictions_fit\n",
    "        meta_tree.fit(stacked_predictions_fit,y)\n",
    "        self.stackModel=meta_tree\n",
    "        #Fitting the base models using the whole dataset again\n",
    "        print(\"Done\")\n",
    "        for i,model in enumerate(self.baseModels):\n",
    "            model.fit(X,y)\n",
    "            \n",
    "        return self\n",
    "    #predict method for the superLearner\n",
    "    def predict(self,X):\n",
    "        stacked_predictions_fit=[]\n",
    "        predicted_values=[]\n",
    "        for i,model in enumerate(self.baseModels):\n",
    "            if self.predProba==False:\n",
    "                P=model.predict(X)\n",
    "            else:\n",
    "                P=model.predict_proba(X)\n",
    "            predicted_values.append(P.tolist())\n",
    "        stacked_predictions_fit.extend(np.column_stack(predicted_values).tolist())\n",
    "        if self.useOriginalInput==True:\n",
    "            stacked_predictions_fit = np.column_stack((X,stacked_predictions_fit))\n",
    "        #making the stackModel predict on the stacked predictions from the base learners (class label)\n",
    "        final_Predictions=self.stackModel.predict(stacked_predictions_fit)\n",
    "        return final_Predictions\n",
    "    #predict proba method for the superLearner\n",
    "    def predict_proba(self,X):\n",
    "        stacked_predictions_fit=[]\n",
    "        predicted_values=[]\n",
    "        for i,model in enumerate(self.baseModels):\n",
    "            if self.predProba==False:\n",
    "                P=model.predict(X)\n",
    "            else:\n",
    "                P=model.predict_proba(X)\n",
    "            predicted_values.append(P.tolist())\n",
    "        stacked_predictions_fit.extend(np.column_stack(predicted_values).tolist())\n",
    "        if self.useOriginalInput==True:\n",
    "            stacked_predictions_fit = np.column_stack((X,stacked_predictions_fit))\n",
    "        #making the trained stackModel predict on the stacked predictions of base learners (probability outputs)\n",
    "        final_Predictions=self.stackModel.predict_proba(stacked_predictions_fit)\n",
    "        return final_Predictions\n",
    "\n",
    "        cArray=np.array(corrMatrix)\n",
    "        mask = np.zeros_like(cArray)\n",
    "        mask[np.triu_indices_from(mask)] = True\n",
    "        with sns.axes_style(\"white\"):\n",
    "            ax = sns.heatmap(cArray, mask=mask, vmax=.3, square=True)\n",
    "        \n",
    "    #The function which shows the Accuracy,F1Score,Recall,Precision \n",
    "    def predictivePowerEnsemble(self,Xtest,YTest):\n",
    "        for i,model in enumerate(self.baseModels):\n",
    "            print(\"Predictive Power of Each of the base model- Model\"+str(i+1))\n",
    "            pr=model.predict(Xtest)\n",
    "            a = metrics.accuracy_score(pr,YTest)\n",
    "            f1=metrics.f1_score(pr,YTest,average='weighted')\n",
    "            r=metrics.recall_score(pr,YTest,average='weighted')\n",
    "            p=metrics.precision_score(pr,YTest,average='weighted')\n",
    "            print(\"Accuracy\"+str(a))\n",
    "            print(\"F1-Measure\"+str(f1))\n",
    "            print(\"Recall\"+str(r))\n",
    "            print(\"Precision\"+str(p))\n",
    "                 \n",
    "        return \n",
    "    #The function to print the confusion heatmap of the confusion matrices of the base learners\n",
    "    def confusionHeatMap(self,Xtest,YTest):\n",
    "        confusion_aggregate=[]\n",
    "        labels=[\"Gaussian\",\"KNN\",\"Logistic Regression\",\"DecisionTree\",\"RandomForest\"]\n",
    "        for i,model in enumerate(self.baseModels):\n",
    "            pr=model.predict(XTest)\n",
    "            matrix=metrics.confusion_matrix(YTest,pr)\n",
    "            confusion_aggregate.append(matrix)\n",
    "            \n",
    "        conf={\n",
    "        1:{\n",
    "            'matrix':confusion_aggregate[0],\n",
    "            'title':labels[0]\n",
    "        }, \n",
    "         2:{\n",
    "            'matrix':confusion_aggregate[1],\n",
    "            'title':labels[1]\n",
    "        }, \n",
    "         3:{\n",
    "            'matrix':confusion_aggregate[2],\n",
    "            'title':labels[2]\n",
    "        }, \n",
    "         4:{\n",
    "            'matrix':confusion_aggregate[3],\n",
    "            'title':labels[3]\n",
    "        }, \n",
    "         5:{\n",
    "            'matrix':confusion_aggregate[4],\n",
    "            'title':labels[4]\n",
    "        }, \n",
    "         6:{\n",
    "            'matrix':confusion_aggregate[5],\n",
    "            'title':labels[5]\n",
    "        }, \n",
    "         7:{\n",
    "            'matrix':confusion_aggregate[6],\n",
    "            'title':labels[6]\n",
    "        }\n",
    "    }\n",
    "        fix, ax = plt.subplots(figsize=(16, 12))\n",
    "        plt.suptitle('Confusion Matrix of Various Classifiers')\n",
    "        for ii, values in conf.items():\n",
    "            print(\"inside\")\n",
    "            matrix = values['matrix']\n",
    "            title = values['title']\n",
    "            plt.subplot(3, 4, ii) # starts from 1\n",
    "            plt.title(title);\n",
    "            sns.heatmap(matrix, annot=True,  fmt='');\n",
    "        plt.show()\n",
    "            \n",
    "            \n",
    "        return \n",
    "    #function to print the scatter plot of the predictions\n",
    "    def scatterPlotforPrediction(self):\n",
    "        print(\"Scatter Plot showing the predictions plot\")\n",
    "        d =pd.DataFrame(self.global_stack)\n",
    "        scatter_matrix(d)\n",
    "        \n"
   ]
  },
  {
   "cell_type": "code",
   "execution_count": 141,
   "metadata": {},
   "outputs": [
    {
     "name": "stdout",
     "output_type": "stream",
     "text": [
      "Done\n"
     ]
    },
    {
     "data": {
      "text/plain": [
       "SuperLearnerClassifier(K=2,\n",
       "            baseModels=[KNeighborsClassifier(algorithm='auto', leaf_size=30, metric='minkowski',\n",
       "           metric_params=None, n_jobs=1, n_neighbors=3, p=2,\n",
       "           weights='uniform'), LogisticRegression(C=100, class_weight=None, dual=False, fit_intercept=True,\n",
       "          intercept_scaling=1, max_iter=100, m... n_jobs=1,\n",
       "            oob_score=False, random_state=None, verbose=0,\n",
       "            warm_start=False)],\n",
       "            cv_folds=2,\n",
       "            global_stack=[[3, 3, 3, 3, 3], [3, 3, 3, 3, 3], [3, 3, 3, 3, 3], [3, 3, 3, 3, 3], [3, 0, 3, 3, 3], [3, 0, 1, 3, 3], [0, 0, 1, 3, 3], [0, 0, 1, 0, 0], [0, 0, 1, 0, 0], [0, 0, 1, 0, 0], [0, 0, 1, 0, 0], [0, 0, 1, 0, 0], [0, 0, 1, 0, 0], [0, 0, 1, 0, 0], [0, 0, 1, 0, 0], [0, 0, 1, 0, 0], [0, 0, 1, 0, 0...2, 2, 1, 2, 2], [2, 2, 1, 2, 2], [2, 2, 1, 0, 2], [0, 2, 1, 0, 2], [2, 2, 1, 0, 0], [2, 2, 1, 2, 2]],\n",
       "            predProba=False,\n",
       "            stackModel=DecisionTreeClassifier(class_weight=None, criterion='entropy', max_depth=None,\n",
       "            max_features=None, max_leaf_nodes=None,\n",
       "            min_impurity_decrease=0.0, min_impurity_split=None,\n",
       "            min_samples_leaf=1, min_samples_split=2,\n",
       "            min_weight_fraction_leaf=0.0, presort=False, random_state=None,\n",
       "            splitter='best'),\n",
       "            useOriginalInput=False)"
      ]
     },
     "execution_count": 141,
     "metadata": {},
     "output_type": "execute_result"
    }
   ],
   "source": [
    "# Define the base and stack models\n",
    "knn = KNeighborsClassifier(n_neighbors=3)\n",
    "lr = LogisticRegression(C=100)\n",
    "nb = naive_bayes.GaussianNB()\n",
    "dt = tree.DecisionTreeClassifier(criterion=\"entropy\")\n",
    "rf = RandomForestClassifier(n_estimators=10, max_features=3)\n",
    "\n",
    "baseModels=[knn,lr,nb,dt,rf]\n",
    "\n",
    "stackModel=tree.DecisionTreeClassifier(criterion=\"entropy\")\n",
    "\n",
    "# Define the simple superlearner\n",
    "superlearner = SuperLearnerClassifier(baseModels,stackModel,predProba=False,useOriginalInput=False)\n",
    "\n",
    "# Train the simple superlearner model\n",
    "superlearner.fit(X_train, y_train)"
   ]
  },
  {
   "cell_type": "code",
   "execution_count": 142,
   "metadata": {},
   "outputs": [
    {
     "name": "stdout",
     "output_type": "stream",
     "text": [
      "Accuracy:0.893048128342246\n",
      "             precision    recall  f1-score   support\n",
      "\n",
      "          0       0.91      0.91      0.91     23544\n",
      "          1       0.87      0.54      0.66      1857\n",
      "          2       0.89      0.93      0.91     23113\n",
      "          3       0.78      0.54      0.64      1789\n",
      "\n",
      "avg / total       0.89      0.89      0.89     50303\n",
      "\n",
      "Confusion Matrix\n"
     ]
    },
    {
     "data": {
      "text/html": [
       "<div>\n",
       "<style scoped>\n",
       "    .dataframe tbody tr th:only-of-type {\n",
       "        vertical-align: middle;\n",
       "    }\n",
       "\n",
       "    .dataframe tbody tr th {\n",
       "        vertical-align: top;\n",
       "    }\n",
       "\n",
       "    .dataframe thead th {\n",
       "        text-align: right;\n",
       "    }\n",
       "</style>\n",
       "<table border=\"1\" class=\"dataframe\">\n",
       "  <thead>\n",
       "    <tr style=\"text-align: right;\">\n",
       "      <th>Predicted</th>\n",
       "      <th>0</th>\n",
       "      <th>1</th>\n",
       "      <th>2</th>\n",
       "      <th>3</th>\n",
       "      <th>All</th>\n",
       "    </tr>\n",
       "    <tr>\n",
       "      <th>True</th>\n",
       "      <th></th>\n",
       "      <th></th>\n",
       "      <th></th>\n",
       "      <th></th>\n",
       "      <th></th>\n",
       "    </tr>\n",
       "  </thead>\n",
       "  <tbody>\n",
       "    <tr>\n",
       "      <th>0</th>\n",
       "      <td>21368</td>\n",
       "      <td>78</td>\n",
       "      <td>1957</td>\n",
       "      <td>141</td>\n",
       "      <td>23544</td>\n",
       "    </tr>\n",
       "    <tr>\n",
       "      <th>1</th>\n",
       "      <td>435</td>\n",
       "      <td>998</td>\n",
       "      <td>417</td>\n",
       "      <td>7</td>\n",
       "      <td>1857</td>\n",
       "    </tr>\n",
       "    <tr>\n",
       "      <th>2</th>\n",
       "      <td>1329</td>\n",
       "      <td>72</td>\n",
       "      <td>21582</td>\n",
       "      <td>130</td>\n",
       "      <td>23113</td>\n",
       "    </tr>\n",
       "    <tr>\n",
       "      <th>3</th>\n",
       "      <td>395</td>\n",
       "      <td>0</td>\n",
       "      <td>419</td>\n",
       "      <td>975</td>\n",
       "      <td>1789</td>\n",
       "    </tr>\n",
       "    <tr>\n",
       "      <th>All</th>\n",
       "      <td>23527</td>\n",
       "      <td>1148</td>\n",
       "      <td>24375</td>\n",
       "      <td>1253</td>\n",
       "      <td>50303</td>\n",
       "    </tr>\n",
       "  </tbody>\n",
       "</table>\n",
       "</div>"
      ],
      "text/plain": [
       "Predicted      0     1      2     3    All\n",
       "True                                      \n",
       "0          21368    78   1957   141  23544\n",
       "1            435   998    417     7   1857\n",
       "2           1329    72  21582   130  23113\n",
       "3            395     0    419   975   1789\n",
       "All        23527  1148  24375  1253  50303"
      ]
     },
     "execution_count": 142,
     "metadata": {},
     "output_type": "execute_result"
    }
   ],
   "source": [
    "# predicting on the simple superlearner model \n",
    "predict = superlearner.predict(X_valid)\n",
    "\n",
    "# Print performance details of the simple superlearner model\n",
    "accuracy = metrics.accuracy_score(predict,y_valid)\n",
    "print(\"Accuracy:\" +str(accuracy))\n",
    "\n",
    "# Print Classification Report\n",
    "print(metrics.classification_report(y_valid, predict))\n",
    "\n",
    "# Print confusion matrix\n",
    "print(\"Confusion Matrix\")\n",
    "pd.crosstab(y_valid, predict, rownames=['True'], colnames=['Predicted'], margins=True)"
   ]
  },
  {
   "cell_type": "markdown",
   "metadata": {},
   "source": [
    "<b> Tuned SuperLearner & Evaluation </b>"
   ]
  },
  {
   "cell_type": "code",
   "execution_count": 143,
   "metadata": {},
   "outputs": [
    {
     "name": "stdout",
     "output_type": "stream",
     "text": [
      "Done\n",
      "Done\n",
      "Done\n",
      "Done\n",
      "Done\n",
      "Done\n",
      "Done\n",
      "Done\n",
      "Done\n",
      "Done\n",
      "Done\n",
      "Done\n",
      "Done\n",
      "0.8895080030444512\n",
      "{'predProba': False, 'stackModel': DecisionTreeClassifier(class_weight=None, criterion='entropy', max_depth=None,\n",
      "            max_features=None, max_leaf_nodes=None,\n",
      "            min_impurity_decrease=0.0, min_impurity_split=None,\n",
      "            min_samples_leaf=1, min_samples_split=2,\n",
      "            min_weight_fraction_leaf=0.0, presort=False, random_state=None,\n",
      "            splitter='best'), 'baseModels': [GaussianNB(priors=None), KNeighborsClassifier(algorithm='auto', leaf_size=30, metric='minkowski',\n",
      "           metric_params=None, n_jobs=1, n_neighbors=3, p=2,\n",
      "           weights='uniform'), LogisticRegression(C=100, class_weight=None, dual=False, fit_intercept=True,\n",
      "          intercept_scaling=1, max_iter=100, multi_class='ovr', n_jobs=1,\n",
      "          penalty='l2', random_state=None, solver='liblinear', tol=0.0001,\n",
      "          verbose=0, warm_start=False), DecisionTreeClassifier(class_weight=None, criterion='entropy', max_depth=None,\n",
      "            max_features=None, max_leaf_nodes=None,\n",
      "            min_impurity_decrease=0.0, min_impurity_split=None,\n",
      "            min_samples_leaf=1, min_samples_split=2,\n",
      "            min_weight_fraction_leaf=0.0, presort=False, random_state=None,\n",
      "            splitter='best'), RandomForestClassifier(bootstrap=True, class_weight=None, criterion='gini',\n",
      "            max_depth=None, max_features=3, max_leaf_nodes=None,\n",
      "            min_impurity_decrease=0.0, min_impurity_split=None,\n",
      "            min_samples_leaf=1, min_samples_split=2,\n",
      "            min_weight_fraction_leaf=0.0, n_estimators=10, n_jobs=1,\n",
      "            oob_score=False, random_state=None, verbose=0,\n",
      "            warm_start=False)], 'useOriginalInput': False}\n"
     ]
    }
   ],
   "source": [
    "#Different stack classifiers\n",
    "tr=tree.DecisionTreeClassifier(criterion=\"entropy\")\n",
    "lr = LogisticRegression(C=100)\n",
    "listOfStackModels=[tr,lr]\n",
    "\n",
    "#Different base classifiers\n",
    "nb = GaussianNB()\n",
    "knn = KNeighborsClassifier(n_neighbors=3)\n",
    "lr = LogisticRegression(C=100)\n",
    "dt = tree.DecisionTreeClassifier(criterion=\"entropy\")\n",
    "rf = RandomForestClassifier(n_estimators=10, max_features=3)\n",
    "\n",
    "baseModelsList=[nb,knn,lr,dt,rf]\n",
    "baseModelsList1=[nb,knn,dt,rf]\n",
    "baseModelsList2=[nb,knn,lr,rf]\n",
    "\n",
    "BList=[baseModelsList,baseModelsList1,baseModelsList2]\n",
    "\n",
    "#To use labels or probabilities\n",
    "predProbaList=[False]\n",
    "\n",
    "#creating the param grid for the gridSearch\n",
    "useOriginalInputList=[False]\n",
    "param_grid=dict(baseModels=BList,stackModel=listOfStackModels,predProba=predProbaList,useOriginalInput=useOriginalInputList)\n",
    "\n",
    "#Perform Grid Search\n",
    "tuned_superlearner= GridSearchCV(SuperLearnerClassifier(),param_grid,cv=2,scoring='accuracy')\n",
    "tuned_superlearner.fit(X_train_plus_valid,y_train_plus_valid)\n",
    "\n",
    "#To view the results\n",
    "print(tuned_superlearner.best_score_)\n",
    "print(tuned_superlearner.best_params_)"
   ]
  },
  {
   "cell_type": "code",
   "execution_count": 144,
   "metadata": {},
   "outputs": [
    {
     "name": "stdout",
     "output_type": "stream",
     "text": [
      "Accuracy:0.9044053330506003\n",
      "             precision    recall  f1-score   support\n",
      "\n",
      "          0       0.92      0.92      0.92     35282\n",
      "          1       0.84      0.61      0.70      2876\n",
      "          2       0.89      0.94      0.92     34754\n",
      "          3       0.83      0.55      0.66      2542\n",
      "\n",
      "avg / total       0.90      0.90      0.90     75454\n",
      "\n",
      "Confusion Matrix\n"
     ]
    },
    {
     "data": {
      "text/html": [
       "<div>\n",
       "<style scoped>\n",
       "    .dataframe tbody tr th:only-of-type {\n",
       "        vertical-align: middle;\n",
       "    }\n",
       "\n",
       "    .dataframe tbody tr th {\n",
       "        vertical-align: top;\n",
       "    }\n",
       "\n",
       "    .dataframe thead th {\n",
       "        text-align: right;\n",
       "    }\n",
       "</style>\n",
       "<table border=\"1\" class=\"dataframe\">\n",
       "  <thead>\n",
       "    <tr style=\"text-align: right;\">\n",
       "      <th>Predicted</th>\n",
       "      <th>0</th>\n",
       "      <th>1</th>\n",
       "      <th>2</th>\n",
       "      <th>3</th>\n",
       "      <th>All</th>\n",
       "    </tr>\n",
       "    <tr>\n",
       "      <th>True</th>\n",
       "      <th></th>\n",
       "      <th></th>\n",
       "      <th></th>\n",
       "      <th></th>\n",
       "      <th></th>\n",
       "    </tr>\n",
       "  </thead>\n",
       "  <tbody>\n",
       "    <tr>\n",
       "      <th>0</th>\n",
       "      <td>32284</td>\n",
       "      <td>178</td>\n",
       "      <td>2679</td>\n",
       "      <td>141</td>\n",
       "      <td>35282</td>\n",
       "    </tr>\n",
       "    <tr>\n",
       "      <th>1</th>\n",
       "      <td>518</td>\n",
       "      <td>1745</td>\n",
       "      <td>613</td>\n",
       "      <td>0</td>\n",
       "      <td>2876</td>\n",
       "    </tr>\n",
       "    <tr>\n",
       "      <th>2</th>\n",
       "      <td>1622</td>\n",
       "      <td>165</td>\n",
       "      <td>32819</td>\n",
       "      <td>148</td>\n",
       "      <td>34754</td>\n",
       "    </tr>\n",
       "    <tr>\n",
       "      <th>3</th>\n",
       "      <td>544</td>\n",
       "      <td>0</td>\n",
       "      <td>605</td>\n",
       "      <td>1393</td>\n",
       "      <td>2542</td>\n",
       "    </tr>\n",
       "    <tr>\n",
       "      <th>All</th>\n",
       "      <td>34968</td>\n",
       "      <td>2088</td>\n",
       "      <td>36716</td>\n",
       "      <td>1682</td>\n",
       "      <td>75454</td>\n",
       "    </tr>\n",
       "  </tbody>\n",
       "</table>\n",
       "</div>"
      ],
      "text/plain": [
       "Predicted      0     1      2     3    All\n",
       "True                                      \n",
       "0          32284   178   2679   141  35282\n",
       "1            518  1745    613     0   2876\n",
       "2           1622   165  32819   148  34754\n",
       "3            544     0    605  1393   2542\n",
       "All        34968  2088  36716  1682  75454"
      ]
     },
     "execution_count": 144,
     "metadata": {},
     "output_type": "execute_result"
    }
   ],
   "source": [
    "# Predicting on the tuned superlearner\n",
    "predict = tuned_superlearner.predict(X_test)\n",
    "\n",
    "# Print performance details for the tuned superlearner\n",
    "accuracy = metrics.accuracy_score(predict,y_test)\n",
    "model_test_accuracy_compare[\"Tuned SuperLearner\"] = accuracy\n",
    "print(\"Accuracy:\" +str(accuracy))\n",
    "\n",
    "# Print Classification Report\n",
    "print(metrics.classification_report(y_test, predict))\n",
    "\n",
    "# Print confusion matrix\n",
    "print(\"Confusion Matrix\")\n",
    "pd.crosstab(y_test, predict, rownames=['True'], colnames=['Predicted'], margins=True)"
   ]
  },
  {
   "cell_type": "markdown",
   "metadata": {},
   "source": [
    "### Compare the Performance of the Tuned Models to Find the Best Model"
   ]
  },
  {
   "cell_type": "code",
   "execution_count": 145,
   "metadata": {},
   "outputs": [
    {
     "data": {
      "text/plain": [
       "{'Tuned ANN': 0.9662443342963924,\n",
       " 'Tuned Decision Tree': 0.7740212579849974,\n",
       " 'Tuned Random Forest Tree': 0.8870040024385718,\n",
       " 'Tuned SuperLearner': 0.9044053330506003}"
      ]
     },
     "metadata": {},
     "output_type": "display_data"
    }
   ],
   "source": [
    "display(model_test_accuracy_compare)"
   ]
  },
  {
   "cell_type": "code",
   "execution_count": 146,
   "metadata": {},
   "outputs": [
    {
     "data": {
      "image/png": "[encoded data removed]",
      "text/plain": [
       "<matplotlib.figure.Figure at 0x1db981e1278>"
      ]
     },
     "metadata": {},
     "output_type": "display_data"
    }
   ],
   "source": [
    "plt.xlim(0, 1.0)\n",
    "_ = plt.barh(range(len(model_test_accuracy_compare)), list(model_test_accuracy_compare.values()), align='center')\n",
    "_ = plt.yticks(range(len(model_test_accuracy_compare)), list(model_test_accuracy_compare.keys()))"
   ]
  },
  {
   "cell_type": "markdown",
   "metadata": {},
   "source": [
    "### Save the Best State Model"
   ]
  },
  {
   "cell_type": "code",
   "execution_count": 148,
   "metadata": {
    "collapsed": true
   },
   "outputs": [],
   "source": [
    "#Saving the model\n",
    "filepath = \"player_state.mod\"\n",
    "model.save(filepath)"
   ]
  },
  {
   "cell_type": "code",
   "execution_count": 149,
   "metadata": {
    "collapsed": true
   },
   "outputs": [],
   "source": [
    "model = keras.models.load_model(\"player_state.mod\")"
   ]
  },
  {
   "cell_type": "code",
   "execution_count": null,
   "metadata": {
    "collapsed": true
   },
   "outputs": [],
   "source": []
  }
 ],
 "metadata": {
  "kernelspec": {
   "display_name": "Python 3",
   "language": "python",
   "name": "python3"
  },
  "language_info": {
   "codemirror_mode": {
    "name": "ipython",
    "version": 3
   },
   "file_extension": ".py",
   "mimetype": "text/x-python",
   "name": "python",
   "nbconvert_exporter": "python",
   "pygments_lexer": "ipython3",
   "version": "3.6.1"
  }
 },
 "nbformat": 4,
 "nbformat_minor": 2
}
